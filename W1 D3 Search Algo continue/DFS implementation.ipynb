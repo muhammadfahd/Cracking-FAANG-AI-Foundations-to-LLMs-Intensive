{
  "nbformat": 4,
  "nbformat_minor": 0,
  "metadata": {
    "colab": {
      "provenance": []
    },
    "kernelspec": {
      "name": "python3",
      "display_name": "Python 3"
    },
    "language_info": {
      "name": "python"
    }
  },
  "cells": [
    {
      "cell_type": "markdown",
      "source": [
        "Step-by-Step DFS Code Explanation"
      ],
      "metadata": {
        "id": "ho7zY-k5mljP"
      }
    },
    {
      "cell_type": "markdown",
      "source": [
        "Cell 1: Create a Graph"
      ],
      "metadata": {
        "id": "SlBQXydYmoau"
      }
    },
    {
      "cell_type": "code",
      "execution_count": null,
      "metadata": {
        "colab": {
          "base_uri": "https://localhost:8080/"
        },
        "id": "9oTkXfNmgOTP",
        "outputId": "e467c7a5-efa3-4f55-929a-b7e909b6d41a"
      },
      "outputs": [
        {
          "output_type": "stream",
          "name": "stdout",
          "text": [
            "Graph Representation:\n",
            "{'A': ['B', 'C'], 'B': ['D', 'E'], 'C': ['F'], 'D': [], 'E': ['F'], 'F': []}\n"
          ]
        }
      ],
      "source": [
        "# Step 1: Represent the graph as a dictionary (adjacency list)\n",
        "\n",
        "graph = {\n",
        "    'A': ['B', 'C'],\n",
        "    'B': ['D', 'E'],\n",
        "    'C': ['F'],\n",
        "    'D': [],\n",
        "    'E': ['F'],\n",
        "    'F': []\n",
        "}\n",
        "\n",
        "print(\"Graph Representation:\")\n",
        "print(graph)\n"
      ]
    },
    {
      "cell_type": "markdown",
      "source": [
        "Explanation:\n",
        "\n",
        "We represent a graph using a dictionary where:\n",
        "\n",
        "Keys = nodes (A, B, C, …)\n",
        "\n",
        "Values = list of neighbors (connected nodes)\n",
        "\n",
        "For example:\n",
        "\n",
        "A connects to B and C\n",
        "\n",
        "B connects to D and E"
      ],
      "metadata": {
        "id": "WS9QtzkAgjHV"
      }
    },
    {
      "cell_type": "markdown",
      "source": [
        "Cell 2: Create a Visited Set"
      ],
      "metadata": {
        "id": "8vaK1aH-gxpO"
      }
    },
    {
      "cell_type": "code",
      "source": [
        "# Step 2: Create a set to track visited nodes\n",
        "\n",
        "visited = set()\n"
      ],
      "metadata": {
        "id": "zXQaVjEEg1ed"
      },
      "execution_count": null,
      "outputs": []
    },
    {
      "cell_type": "markdown",
      "source": [
        "Explanation:\n",
        "\n",
        "We use a set to keep track of nodes we’ve already visited.\n",
        "\n",
        "This prevents infinite loops in case of cycles."
      ],
      "metadata": {
        "id": "RCuxvLiWg55p"
      }
    },
    {
      "cell_type": "markdown",
      "source": [
        "Cell 3: Define the DFS Function"
      ],
      "metadata": {
        "id": "_KFVZhFlhAK2"
      }
    },
    {
      "cell_type": "code",
      "source": [
        "# Step 3: Define the DFS function\n",
        "\n",
        "def dfs(graph, node):\n",
        "    if node not in visited:              # Check if node is not visited\n",
        "        print(node, end=\" \")             # Visit (print) the node\n",
        "        visited.add(node)                # Mark as visited\n",
        "\n",
        "        # Recursively visit all neighbors\n",
        "        for neighbour in graph[node]:\n",
        "            dfs(graph, neighbour)\n"
      ],
      "metadata": {
        "id": "yFs747lshA6o"
      },
      "execution_count": null,
      "outputs": []
    },
    {
      "cell_type": "markdown",
      "source": [
        "Explanation:\n",
        "\n",
        "dfs() is a recursive function:\n",
        "\n",
        "It visits a node,\n",
        "\n",
        "Marks it as visited,\n",
        "\n",
        "Then recursively visits each of its neighbors.\n",
        "\n",
        "This is how DFS explores deeply before backtracking."
      ],
      "metadata": {
        "id": "grVy_-yHhJSY"
      }
    },
    {
      "cell_type": "markdown",
      "source": [
        "Cell 4: Run DFS Algorithm"
      ],
      "metadata": {
        "id": "Od_-iIpyhOFv"
      }
    },
    {
      "cell_type": "code",
      "source": [
        "# Step 4: Run DFS starting from a specific node\n",
        "\n",
        "print(\"DFS Traversal:\")\n",
        "dfs(graph, 'A')\n"
      ],
      "metadata": {
        "colab": {
          "base_uri": "https://localhost:8080/"
        },
        "id": "xIrkIJXYhPCI",
        "outputId": "8a870f36-0977-4c0a-d321-f89f45490243"
      },
      "execution_count": null,
      "outputs": [
        {
          "output_type": "stream",
          "name": "stdout",
          "text": [
            "DFS Traversal:\n",
            "A B D E F C "
          ]
        }
      ]
    },
    {
      "cell_type": "markdown",
      "source": [
        "Explanation:\n",
        "\n",
        "We start the search from node 'A'.\n",
        "\n",
        "DFS will explore as deeply as possible before moving to the next branch."
      ],
      "metadata": {
        "id": "uSxz_bthhRTK"
      }
    },
    {
      "cell_type": "markdown",
      "source": [
        "What Happens:\n",
        "\n",
        "Start at A\n",
        "\n",
        "Go to B\n",
        "\n",
        "Go to D (no more neighbors → backtrack)\n",
        "\n",
        "Go to E\n",
        "\n",
        "Go to F (no neighbors → backtrack)\n",
        "\n",
        "Backtrack to C → Go to F (already visited, so skip)\n",
        "\n",
        "Lecture Tip:\n",
        "Explain recursion by showing how the function calls itself for each neighbor. You can also draw the call stack to show the backtracking process."
      ],
      "metadata": {
        "id": "wAaM6oNQheOA"
      }
    },
    {
      "cell_type": "markdown",
      "source": [
        "Step-by-Step BFS Code Explanation"
      ],
      "metadata": {
        "id": "EFPyvztvhpGr"
      }
    },
    {
      "cell_type": "markdown",
      "source": [
        "Cell 1: Import deque and Create Graph"
      ],
      "metadata": {
        "id": "9lhGisRUhqbr"
      }
    },
    {
      "cell_type": "code",
      "source": [
        "# Step 1: Import deque for BFS queue and create graph\n",
        "\n",
        "from collections import deque\n",
        "\n",
        "graph = {\n",
        "    'A': ['B', 'C'],\n",
        "    'B': ['D', 'E'],\n",
        "    'C': ['F'],\n",
        "    'D': [],\n",
        "    'E': ['F'],\n",
        "    'F': []\n",
        "}\n",
        "\n",
        "print(\"Graph Representation:\")\n",
        "print(graph)\n"
      ],
      "metadata": {
        "colab": {
          "base_uri": "https://localhost:8080/"
        },
        "id": "FyifmbWGhzZO",
        "outputId": "dbbf4a46-6804-4d94-aee7-d022af3e7547"
      },
      "execution_count": null,
      "outputs": [
        {
          "output_type": "stream",
          "name": "stdout",
          "text": [
            "Graph Representation:\n",
            "{'A': ['B', 'C'], 'B': ['D', 'E'], 'C': ['F'], 'D': [], 'E': ['F'], 'F': []}\n"
          ]
        }
      ]
    },
    {
      "cell_type": "markdown",
      "source": [
        "Explanation:\n",
        "\n",
        "We use deque for efficient queue operations (FIFO).\n",
        "\n",
        "Graph is the same as DFS example.\n",
        "\n",
        "BFS explores nodes level by level, unlike DFS."
      ],
      "metadata": {
        "id": "USDdzrFmh4lP"
      }
    },
    {
      "cell_type": "markdown",
      "source": [
        "Cell 2: Create Visited Set and Queue"
      ],
      "metadata": {
        "id": "dErRwbEZh8KG"
      }
    },
    {
      "cell_type": "code",
      "source": [
        "# Step 2: Create a set to track visited nodes\n",
        "visited = set()\n",
        "\n",
        "# Initialize the queue with the starting node\n",
        "queue = deque(['A'])\n",
        "\n",
        "print(\"Initial Queue:\", queue)\n"
      ],
      "metadata": {
        "colab": {
          "base_uri": "https://localhost:8080/"
        },
        "id": "Bb1j16T-h9H0",
        "outputId": "37f57e49-a53b-493d-d840-b50a92c6639b"
      },
      "execution_count": null,
      "outputs": [
        {
          "output_type": "stream",
          "name": "stdout",
          "text": [
            "Initial Queue: deque(['A'])\n"
          ]
        }
      ]
    },
    {
      "cell_type": "markdown",
      "source": [
        "Explanation:\n",
        "\n",
        "visited keeps track of nodes already visited.\n",
        "\n",
        "queue stores nodes to explore in order.\n",
        "\n",
        "BFS always dequeues the oldest node first → explores all neighbors level-wise."
      ],
      "metadata": {
        "id": "8C3WUgvHiBd8"
      }
    },
    {
      "cell_type": "markdown",
      "source": [
        "Cell 3: BFS Traversal Loop"
      ],
      "metadata": {
        "id": "eEYZJZmZiFKj"
      }
    },
    {
      "cell_type": "code",
      "source": [
        "# Step 3: BFS traversal\n",
        "\n",
        "print(\"BFS Traversal:\", end=\" \")\n",
        "\n",
        "while queue:\n",
        "    node = queue.popleft()       # Remove the first node from the queue\n",
        "    if node not in visited:\n",
        "        print(node, end=\" \")     # Visit the node\n",
        "        visited.add(node)        # Mark as visited\n",
        "        # Add all unvisited neighbors to the queue\n",
        "        for neighbor in graph[node]:\n",
        "            if neighbor not in visited:\n",
        "                queue.append(neighbor)\n"
      ],
      "metadata": {
        "colab": {
          "base_uri": "https://localhost:8080/"
        },
        "id": "pMuqvSc-iF6-",
        "outputId": "540f14f9-1421-4963-e548-60d8ecf2e585"
      },
      "execution_count": null,
      "outputs": [
        {
          "output_type": "stream",
          "name": "stdout",
          "text": [
            "BFS Traversal: A B C D E F "
          ]
        }
      ]
    },
    {
      "cell_type": "markdown",
      "source": [
        "Explanation:\n",
        "\n",
        "BFS uses a queue (FIFO) to visit nodes level by level.\n",
        "\n",
        "Each neighbor is added to the queue for future visits.\n",
        "\n",
        "No recursion is needed (unlike DFS)."
      ],
      "metadata": {
        "id": "GMK56D0giIOv"
      }
    },
    {
      "cell_type": "markdown",
      "source": [
        "Step-by-Step Traversal:\n",
        "\n",
        "Start at A → visit A → queue neighbors B, C\n",
        "\n",
        "Dequeue B → visit B → queue neighbors D, E\n",
        "\n",
        "Dequeue C → visit C → queue neighbor F\n",
        "\n",
        "Dequeue D → visit D (no neighbors)\n",
        "\n",
        "Dequeue E → visit E → queue F already there → skip\n",
        "\n",
        "Dequeue F → visit F → no neighbors → finish\n",
        "\n",
        "Lecture Tip:\n",
        "\n",
        "Show visually how BFS spreads level by level.\n",
        "\n",
        "Compare the order with DFS: BFS = A B C D E F vs DFS = A B D E F C."
      ],
      "metadata": {
        "id": "uiG9fThDiQKW"
      }
    },
    {
      "cell_type": "markdown",
      "source": [
        "Step-by-Step A* Algorithm"
      ],
      "metadata": {
        "id": "WDTDecSAiWRv"
      }
    },
    {
      "cell_type": "markdown",
      "source": [
        "Cell 1: Import Heap and Create Graph"
      ],
      "metadata": {
        "id": "iG-RRMOuiZLZ"
      }
    },
    {
      "cell_type": "code",
      "source": [
        "# Step 1: Import heapq for priority queue and create graph with weights\n",
        "\n",
        "import heapq\n",
        "\n",
        "# Graph represented as adjacency list with weights\n",
        "graph = {\n",
        "    'A': {'B': 1, 'C': 4},\n",
        "    'B': {'D': 2, 'E': 5},\n",
        "    'C': {'F': 1},\n",
        "    'D': {},\n",
        "    'E': {'F': 3},\n",
        "    'F': {}\n",
        "}\n",
        "\n",
        "# Heuristic estimates (h values) to goal 'F'\n",
        "heuristic = {\n",
        "    'A': 5,\n",
        "    'B': 4,\n",
        "    'C': 2,\n",
        "    'D': 6,\n",
        "    'E': 1,\n",
        "    'F': 0\n",
        "}\n",
        "\n",
        "print(\"Graph with Weights:\", graph)\n",
        "print(\"Heuristic Values:\", heuristic)\n"
      ],
      "metadata": {
        "colab": {
          "base_uri": "https://localhost:8080/"
        },
        "id": "Bt-rYTHXiZ6b",
        "outputId": "97f738da-cc3b-46f8-a85f-a2ac12bcda36"
      },
      "execution_count": null,
      "outputs": [
        {
          "output_type": "stream",
          "name": "stdout",
          "text": [
            "Graph with Weights: {'A': {'B': 1, 'C': 4}, 'B': {'D': 2, 'E': 5}, 'C': {'F': 1}, 'D': {}, 'E': {'F': 3}, 'F': {}}\n",
            "Heuristic Values: {'A': 5, 'B': 4, 'C': 2, 'D': 6, 'E': 1, 'F': 0}\n"
          ]
        }
      ]
    },
    {
      "cell_type": "markdown",
      "source": [
        "Explanation:\n",
        "\n",
        "graph contains edge weights (cost to move from one node to another).\n",
        "\n",
        "heuristic is an estimate of distance to goal F (used in A*).\n",
        "\n",
        "A* combines cost so far (g) + heuristic (h) → f = g + h."
      ],
      "metadata": {
        "id": "Mr-qN_5Qieoz"
      }
    },
    {
      "cell_type": "markdown",
      "source": [
        "Cell 2: Define A Function*"
      ],
      "metadata": {
        "id": "odh4AZh7ihO3"
      }
    },
    {
      "cell_type": "code",
      "source": [
        "# Step 2: Define A* function\n",
        "\n",
        "def a_star(graph, start, goal, heuristic):\n",
        "    open_set = []\n",
        "    heapq.heappush(open_set, (heuristic[start], start))  # (f_score, node)\n",
        "    came_from = {}  # Track path\n",
        "    g_score = {node: float('inf') for node in graph}  # Cost from start\n",
        "    g_score[start] = 0\n",
        "\n",
        "    while open_set:\n",
        "        current_f, current = heapq.heappop(open_set)\n",
        "\n",
        "        if current == goal:\n",
        "            # Reconstruct path\n",
        "            path = []\n",
        "            while current in came_from:\n",
        "                path.append(current)\n",
        "                current = came_from[current]\n",
        "            path.append(start)\n",
        "            path.reverse()\n",
        "            return path\n",
        "\n",
        "        for neighbor, weight in graph[current].items():\n",
        "            tentative_g = g_score[current] + weight\n",
        "            if tentative_g < g_score[neighbor]:\n",
        "                g_score[neighbor] = tentative_g\n",
        "                f_score = tentative_g + heuristic[neighbor]\n",
        "                heapq.heappush(open_set, (f_score, neighbor))\n",
        "                came_from[neighbor] = current\n",
        "\n",
        "    return None\n"
      ],
      "metadata": {
        "id": "PZ4_B6Esiieo"
      },
      "execution_count": null,
      "outputs": []
    },
    {
      "cell_type": "markdown",
      "source": [
        "Explanation (Step-by-Step):\n",
        "\n",
        "open_set = priority queue storing (f_score, node)\n",
        "\n",
        "g_score = actual cost from start to node\n",
        "\n",
        "f_score = g + h → total estimated cost to goal\n",
        "\n",
        "Track came_from to reconstruct the path\n",
        "\n",
        "Pop the node with lowest f_score → explore neighbors\n",
        "\n",
        "Update g_score and push new f_score to queue\n",
        "\n",
        "Stop when goal node is reached and reconstruct path"
      ],
      "metadata": {
        "id": "ZMLYcw3Wineo"
      }
    },
    {
      "cell_type": "markdown",
      "source": [
        "Cell 3: Run A Algorithm*"
      ],
      "metadata": {
        "id": "IYDam5LIiqgg"
      }
    },
    {
      "cell_type": "code",
      "source": [
        "# Step 3: Run A* to find shortest path from A to F\n",
        "\n",
        "path = a_star(graph, 'A', 'F', heuristic)\n",
        "print(\"Shortest Path from A to F:\", path)\n"
      ],
      "metadata": {
        "colab": {
          "base_uri": "https://localhost:8080/"
        },
        "id": "lKwj8GFyirFm",
        "outputId": "519cea4a-47c6-4e93-f600-46b426414648"
      },
      "execution_count": null,
      "outputs": [
        {
          "output_type": "stream",
          "name": "stdout",
          "text": [
            "Shortest Path from A to F: ['A', 'C', 'F']\n"
          ]
        }
      ]
    },
    {
      "cell_type": "markdown",
      "source": [
        "Explanation:\n",
        "\n",
        "Start at A → possible neighbors: B (f = 0+5 = 5) or C (f = 4+2 = 6)\n",
        "\n",
        "A* chooses node with lowest f_score → explores paths efficiently\n",
        "\n",
        "Finds the optimal path A → C → F without exploring unnecessary nodes"
      ],
      "metadata": {
        "id": "PFC9XAEMi0DQ"
      }
    }
  ]
}